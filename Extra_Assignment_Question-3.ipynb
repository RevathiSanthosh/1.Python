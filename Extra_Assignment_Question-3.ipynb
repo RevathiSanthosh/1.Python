{
 "cells": [
  {
   "cell_type": "code",
   "execution_count": 3,
   "id": "32a33a62-117f-4fec-90b8-add8af7331f8",
   "metadata": {},
   "outputs": [
    {
     "name": "stdout",
     "output_type": "stream",
     "text": [
      "Value =  10\n",
      "Correct\n"
     ]
    }
   ],
   "source": [
    "# print 'CORRECT' if i == 10\n",
    "i=10\n",
    "print(\"Value = \",i)\n",
    "if(value == 10):\n",
    "    print(\"Correct\")"
   ]
  },
  {
   "cell_type": "code",
   "execution_count": 6,
   "id": "8f650477-8ffd-428c-addc-3c9063949564",
   "metadata": {},
   "outputs": [
    {
     "name": "stdin",
     "output_type": "stream",
     "text": [
      "Enter the password:  SFWDS\n"
     ]
    },
    {
     "name": "stdout",
     "output_type": "stream",
     "text": [
      "Enter valid Password\n"
     ]
    }
   ],
   "source": [
    "# Check the password, using if and else\n",
    "password = input(\"Enter the password: \")\n",
    "if(password == \"HOPE@123\"):\n",
    "    print(\"Your password is correct\")\n",
    "else:\n",
    "    print(\"Enter valid Password\")"
   ]
  },
  {
   "cell_type": "code",
   "execution_count": 8,
   "id": "63c1d815-3bc1-4a0f-8e42-30279abb7597",
   "metadata": {},
   "outputs": [
    {
     "name": "stdin",
     "output_type": "stream",
     "text": [
      "Enter your Age :  30\n"
     ]
    },
    {
     "name": "stdout",
     "output_type": "stream",
     "text": [
      "Adult\n"
     ]
    }
   ],
   "source": [
    "# Catagory the people by their age like children, adult, citizen, senior citizen...\n",
    "age=int(input(\"Enter your Age : \"))\n",
    "if(age <18):\n",
    "    print(\"Children\")\n",
    "elif(age<35):\n",
    "    print(\"Adult\")\n",
    "elif(age<59):\n",
    "    print(\"Citizen\")\n",
    "else:\n",
    "    print(\"Senior Citizen\")"
   ]
  },
  {
   "cell_type": "code",
   "execution_count": 9,
   "id": "5ecb8c05-58cc-4daa-b031-f090ff9bd1cd",
   "metadata": {},
   "outputs": [
    {
     "name": "stdin",
     "output_type": "stream",
     "text": [
      "Enter any number -1\n"
     ]
    },
    {
     "name": "stdout",
     "output_type": "stream",
     "text": [
      "Number is Negative\n"
     ]
    }
   ],
   "source": [
    "# Find whether given number is positive or negative\n",
    "num1=int(input(\"Enter any number\"))\n",
    "if(num1>=0):\n",
    "    print(\"Number is Positive\")\n",
    "else:\n",
    "    print(\"Number is Negative\")\n"
   ]
  },
  {
   "cell_type": "code",
   "execution_count": 14,
   "id": "26a046a0-4965-4f19-9eb2-e2bec8268c98",
   "metadata": {},
   "outputs": [
    {
     "name": "stdin",
     "output_type": "stream",
     "text": [
      "Enter a number to check: 47\n"
     ]
    },
    {
     "name": "stdout",
     "output_type": "stream",
     "text": [
      "47 is not divisible by 5\n"
     ]
    }
   ],
   "source": [
    "# Check whether the given number is divisible by 5\n",
    "num1=int(input(\"Enter a number to check:\"))\n",
    "if(num1%5==0):\n",
    "    print(str(num1)+\" is divisible by 5\")\n",
    "else:\n",
    "    print(str(num1)+\" is not divisible by 5\")\n"
   ]
  },
  {
   "cell_type": "code",
   "execution_count": null,
   "id": "cfea919d-f67e-4f04-a164-414f0e20eb60",
   "metadata": {},
   "outputs": [],
   "source": []
  }
 ],
 "metadata": {
  "kernelspec": {
   "display_name": "Python 3 (ipykernel)",
   "language": "python",
   "name": "python3"
  },
  "language_info": {
   "codemirror_mode": {
    "name": "ipython",
    "version": 3
   },
   "file_extension": ".py",
   "mimetype": "text/x-python",
   "name": "python",
   "nbconvert_exporter": "python",
   "pygments_lexer": "ipython3",
   "version": "3.13.5"
  }
 },
 "nbformat": 4,
 "nbformat_minor": 5
}
