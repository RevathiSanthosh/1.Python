{
 "cells": [
  {
   "cell_type": "code",
   "execution_count": 3,
   "id": "31d9ab0a-3e60-4e40-8666-87014896bfb2",
   "metadata": {},
   "outputs": [
    {
     "name": "stdin",
     "output_type": "stream",
     "text": [
      "Enter the value for num1 :  50\n"
     ]
    }
   ],
   "source": [
    "num1 = int(input(\"Enter the value for num1 : \"))"
   ]
  },
  {
   "cell_type": "code",
   "execution_count": 4,
   "id": "287ff488-28ee-40b8-99e9-81a315518167",
   "metadata": {},
   "outputs": [
    {
     "name": "stdin",
     "output_type": "stream",
     "text": [
      "Enter the value for num2 :  20\n"
     ]
    }
   ],
   "source": [
    "num2 = int (input(\"Enter the value for num2 : \"))"
   ]
  },
  {
   "cell_type": "code",
   "execution_count": 5,
   "id": "c9795719-1f10-4921-8561-59bdfb900e29",
   "metadata": {},
   "outputs": [
    {
     "name": "stdout",
     "output_type": "stream",
     "text": [
      "The sum of number1 and num2 is  70\n"
     ]
    }
   ],
   "source": [
    "print(\"The sum of number1 and num2 is \", num1+num2)"
   ]
  },
  {
   "cell_type": "code",
   "execution_count": 6,
   "id": "a778feda-d220-4b5d-bfa5-cb986821e1d8",
   "metadata": {},
   "outputs": [
    {
     "name": "stdout",
     "output_type": "stream",
     "text": [
      "a\n"
     ]
    }
   ],
   "source": [
    "print('a')"
   ]
  },
  {
   "cell_type": "code",
   "execution_count": null,
   "id": "d853f2b0-5d35-4fbc-b28b-3ae6f631dfa7",
   "metadata": {},
   "outputs": [],
   "source": []
  }
 ],
 "metadata": {
  "kernelspec": {
   "display_name": "Python 3 (ipykernel)",
   "language": "python",
   "name": "python3"
  },
  "language_info": {
   "codemirror_mode": {
    "name": "ipython",
    "version": 3
   },
   "file_extension": ".py",
   "mimetype": "text/x-python",
   "name": "python",
   "nbconvert_exporter": "python",
   "pygments_lexer": "ipython3",
   "version": "3.13.5"
  }
 },
 "nbformat": 4,
 "nbformat_minor": 5
}
