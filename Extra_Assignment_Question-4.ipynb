{
 "cells": [
  {
   "cell_type": "code",
   "execution_count": 2,
   "id": "3aa81a01-498c-4603-be36-34b2624074ad",
   "metadata": {},
   "outputs": [],
   "source": [
    " # Create a function, and list out the items in the list\n",
    "def Subfields():\n",
    "    List = ['Machine Learning','Neural Networks','Vision','Robotics','Speech Processing','Natural Language Processing']\n",
    "    print(\"Sub-fields in AI are: \")\n",
    "    for i in List:\n",
    "        print(i)\n",
    "                                \n",
    "        \n"
   ]
  },
  {
   "cell_type": "code",
   "execution_count": 3,
   "id": "f9cf40d0-5118-4ddb-88e6-1543e4d1deee",
   "metadata": {},
   "outputs": [
    {
     "name": "stdout",
     "output_type": "stream",
     "text": [
      "Sub-fields in AI are: \n",
      "Machine Learning\n",
      "Neural Networks\n",
      "Vision\n",
      "Robotics\n",
      "Speech Processing\n",
      "Natural Language Processing\n"
     ]
    }
   ],
   "source": [
    "Subfields()"
   ]
  },
  {
   "cell_type": "code",
   "execution_count": 4,
   "id": "4a4285f5-d1e2-4256-9e15-060cfd0f2880",
   "metadata": {},
   "outputs": [],
   "source": [
    " # Create a function that checks whether the given number is Odd or Even\n",
    "def OddEven():\n",
    "    num=int(input(\"Enter a number: \"))\n",
    "    if(num % 2 == 0):\n",
    "        print(str(num)+ \" is Even number\")\n",
    "    else:\n",
    "        print(str(num)+ \" is Odd number\")"
   ]
  },
  {
   "cell_type": "code",
   "execution_count": 5,
   "id": "aa84e36a-3e77-4465-aba6-cb03d4fe7732",
   "metadata": {},
   "outputs": [
    {
     "name": "stdin",
     "output_type": "stream",
     "text": [
      "Enter a number:  52452\n"
     ]
    },
    {
     "name": "stdout",
     "output_type": "stream",
     "text": [
      "52452 is Even number\n"
     ]
    }
   ],
   "source": [
    "OddEven()\n"
   ]
  },
  {
   "cell_type": "code",
   "execution_count": 10,
   "id": "8f8a9272-993b-4e2b-ba47-7e50ceb790ca",
   "metadata": {},
   "outputs": [],
   "source": [
    "# Create a function that tells elegibility of marriage for male and female according to their age limit like 21 for male and 18 for female\n",
    "def Elegible():\n",
    "        Gender = input(\"Your Gender :\")\n",
    "        Age =  int(input(\"Your Age :\"))\n",
    "        if(Gender == 'Male'):\n",
    "            if(Age < 21):\n",
    "                print(\"NOT ELIGIBLE\")\n",
    "            else:\n",
    "                 print(\"ELIGIBLE\")\n",
    "        elif(Gender == 'Female'):\n",
    "            if(Age < 18):\n",
    "                 print(\"NOT ELIGIBLE\")\n",
    "            else:\n",
    "                  print(\"ELIGIBLE\")\n",
    "        else:\n",
    "            print(\"Enter a valid gender\")"
   ]
  },
  {
   "cell_type": "code",
   "execution_count": 11,
   "id": "f9cf3bc6-70b2-4c07-a334-f03f80dd0915",
   "metadata": {},
   "outputs": [
    {
     "name": "stdin",
     "output_type": "stream",
     "text": [
      "Your Gender : Male\n",
      "Your Age : 20\n"
     ]
    },
    {
     "name": "stdout",
     "output_type": "stream",
     "text": [
      "NOT ELIGIBLE\n"
     ]
    }
   ],
   "source": [
    "Elegible()"
   ]
  },
  {
   "cell_type": "code",
   "execution_count": 15,
   "id": "456455a4-91d0-411c-8efb-dce0c87fd110",
   "metadata": {},
   "outputs": [],
   "source": [
    "# calculate the percentage of your 10th mark\n",
    "def percentage():\n",
    "     Subject1 = int(input(\"Subject1 =\")) \n",
    "     Subject2 = int(input(\"Subject2 =\")) \n",
    "     Subject3 = int(input(\"Subject3 =\")) \n",
    "     Subject4 = int(input(\"Subject4 =\")) \n",
    "     Subject5 = int(input(\"Subject5 =\")) \n",
    "     Total= Subject1+Subject2+Subject3+Subject4+Subject5\n",
    "     Percentage = ((Total/500)* 100)\n",
    "     print(\"Total : \",Total)\n",
    "     print(\"Percentage : \",Percentage)\n",
    "     "
   ]
  },
  {
   "cell_type": "code",
   "execution_count": 16,
   "id": "12bd39e5-1b99-4a63-a006-ae4635a9c862",
   "metadata": {},
   "outputs": [
    {
     "name": "stdin",
     "output_type": "stream",
     "text": [
      "Subject1 = 98\n",
      "Subject2 = 87\n",
      "Subject3 = 95\n",
      "Subject4 = 95\n",
      "Subject5 = 93\n"
     ]
    },
    {
     "name": "stdout",
     "output_type": "stream",
     "text": [
      "Total :  468\n",
      "Percentage :  93.60000000000001\n"
     ]
    }
   ],
   "source": [
    "percentage()"
   ]
  },
  {
   "cell_type": "code",
   "execution_count": 18,
   "id": "b8bcb43c-b266-4a8e-936f-917aa8c98c68",
   "metadata": {},
   "outputs": [],
   "source": [
    "#print area and perimeter of triangle using  functions\n",
    "def triangle():\n",
    "    Height = int(input('Height:'))\n",
    "    Breadth = int(input('Breadth:'))\n",
    "    print('Area formula:  (Height*Breadth)/2')\n",
    "    Area = (Height*Breadth)/2\n",
    "    print('Area of Triangle: ',Area)\n",
    "    Height1= int(input('Height1:'))\n",
    "    Height2= int(input('Height2:'))\n",
    "    Breadth = int(input('Breadth:'))\n",
    "    print('Perimeter formula: Height1+Height2+Breadth')\n",
    "    Perimeter = Height1+Height2+Breadth\n",
    "    print(\"Perimeter of Triangle: \",Perimeter)"
   ]
  },
  {
   "cell_type": "code",
   "execution_count": 19,
   "id": "8f5f35bc-3837-4387-b4c2-de2c834c06ae",
   "metadata": {},
   "outputs": [
    {
     "name": "stdin",
     "output_type": "stream",
     "text": [
      "Height: 32\n",
      "Breadth: 34\n"
     ]
    },
    {
     "name": "stdout",
     "output_type": "stream",
     "text": [
      "Area formula:  (Height*Breadth)/2\n",
      "Area of Triangle:  544.0\n"
     ]
    },
    {
     "name": "stdin",
     "output_type": "stream",
     "text": [
      "Height1: 2\n",
      "Height2: 4\n",
      "Breadth: 4\n"
     ]
    },
    {
     "name": "stdout",
     "output_type": "stream",
     "text": [
      "Perimeter formula: Height1+Height2+Breadth\n",
      "Perimeter of Triangle:  10\n"
     ]
    }
   ],
   "source": [
    "triangle()"
   ]
  },
  {
   "cell_type": "code",
   "execution_count": null,
   "id": "d441c5e4-6a0f-4df0-9cf5-1f9539f96dcb",
   "metadata": {},
   "outputs": [],
   "source": []
  }
 ],
 "metadata": {
  "kernelspec": {
   "display_name": "Python 3 (ipykernel)",
   "language": "python",
   "name": "python3"
  },
  "language_info": {
   "codemirror_mode": {
    "name": "ipython",
    "version": 3
   },
   "file_extension": ".py",
   "mimetype": "text/x-python",
   "name": "python",
   "nbconvert_exporter": "python",
   "pygments_lexer": "ipython3",
   "version": "3.13.5"
  }
 },
 "nbformat": 4,
 "nbformat_minor": 5
}
