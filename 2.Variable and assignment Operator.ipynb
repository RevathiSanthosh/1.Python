{
 "cells": [
  {
   "cell_type": "code",
   "execution_count": 10,
   "id": "d119009f-a9bd-4282-994b-42dc2ffbe3ab",
   "metadata": {},
   "outputs": [
    {
     "name": "stdout",
     "output_type": "stream",
     "text": [
      "30\n",
      "35\n"
     ]
    }
   ],
   "source": [
    "num1 = 10\n",
    "num2 = 20\n",
    "num3 = num1 + num2\n",
    "print( num3)\n",
    "print(num1+num2+5)"
   ]
  },
  {
   "cell_type": "code",
   "execution_count": 11,
   "id": "251abbcc-7350-45a7-8677-b13803d66f2c",
   "metadata": {},
   "outputs": [
    {
     "name": "stdout",
     "output_type": "stream",
     "text": [
      "10\n"
     ]
    }
   ],
   "source": [
    "print(10)"
   ]
  },
  {
   "cell_type": "code",
   "execution_count": 15,
   "id": "ba5b04da-8d48-419c-b8b4-1004003bc787",
   "metadata": {},
   "outputs": [
    {
     "name": "stdout",
     "output_type": "stream",
     "text": [
      "ammaappa\n"
     ]
    }
   ],
   "source": [
    "print(\"amma\"+\"appa\")"
   ]
  },
  {
   "cell_type": "code",
   "execution_count": 16,
   "id": "a97b1153-6058-40b4-99c5-8d99e840c69b",
   "metadata": {},
   "outputs": [
    {
     "name": "stdout",
     "output_type": "stream",
     "text": [
      "The number1 is  10\n",
      "The number2 is   20\n",
      "The addition of num1 and num2 is : 30\n"
     ]
    }
   ],
   "source": [
    "num1 = 10\n",
    "num2 = 20\n",
    "num3 = num1 + num2\n",
    "print(\"The number1 is \",num1)\n",
    "print(\"The number2 is  \",num2)\n",
    "print(\"The addition of num1 and num2 is :\",num1+num2)\n"
   ]
  },
  {
   "cell_type": "code",
   "execution_count": null,
   "id": "a2cda053-c8ca-462b-95a3-8518093208e9",
   "metadata": {},
   "outputs": [],
   "source": []
  }
 ],
 "metadata": {
  "kernelspec": {
   "display_name": "Python 3 (ipykernel)",
   "language": "python",
   "name": "python3"
  },
  "language_info": {
   "codemirror_mode": {
    "name": "ipython",
    "version": 3
   },
   "file_extension": ".py",
   "mimetype": "text/x-python",
   "name": "python",
   "nbconvert_exporter": "python",
   "pygments_lexer": "ipython3",
   "version": "3.13.5"
  }
 },
 "nbformat": 4,
 "nbformat_minor": 5
}
