{
 "cells": [
  {
   "cell_type": "code",
   "execution_count": 1,
   "id": "79e57030-e73a-4bd9-a97c-c788a67122d2",
   "metadata": {},
   "outputs": [
    {
     "name": "stdout",
     "output_type": "stream",
     "text": [
      "Hi Dad!\n"
     ]
    }
   ],
   "source": [
    "print(\"Hi Dad!\")"
   ]
  },
  {
   "cell_type": "code",
   "execution_count": 2,
   "id": "c095c187-b860-4c33-a76e-d5d9268c20a0",
   "metadata": {},
   "outputs": [
    {
     "name": "stdout",
     "output_type": "stream",
     "text": [
      "Hi Akshara,Akhilesh and My Dear San! call me -8999759794\n"
     ]
    }
   ],
   "source": [
    "print(\"Hi Akshara,Akhilesh and My Dear San! call me -8999759794\")"
   ]
  },
  {
   "cell_type": "code",
   "execution_count": null,
   "id": "642dd138-151f-46f2-992b-347fb8687280",
   "metadata": {},
   "outputs": [],
   "source": []
  }
 ],
 "metadata": {
  "kernelspec": {
   "display_name": "Python 3 (ipykernel)",
   "language": "python",
   "name": "python3"
  },
  "language_info": {
   "codemirror_mode": {
    "name": "ipython",
    "version": 3
   },
   "file_extension": ".py",
   "mimetype": "text/x-python",
   "name": "python",
   "nbconvert_exporter": "python",
   "pygments_lexer": "ipython3",
   "version": "3.13.5"
  }
 },
 "nbformat": 4,
 "nbformat_minor": 5
}
