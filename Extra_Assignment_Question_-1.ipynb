{
 "cells": [
  {
   "cell_type": "code",
   "execution_count": 1,
   "id": "4cd71030-e1b5-4f83-9bc4-41b7a7602e25",
   "metadata": {},
   "outputs": [
    {
     "name": "stdout",
     "output_type": "stream",
     "text": [
      "HOPE AI\n"
     ]
    }
   ],
   "source": [
    "#print Statement\n",
    "print(\"HOPE AI\")"
   ]
  },
  {
   "cell_type": "code",
   "execution_count": 2,
   "id": "ec68e716-b3e2-4e05-965d-dc9a9f71daff",
   "metadata": {},
   "outputs": [
    {
     "name": "stdin",
     "output_type": "stream",
     "text": [
      "Enter your institute name? :  HOPE AI\n"
     ]
    }
   ],
   "source": [
    "# Buy input \n",
    "name = input(\"Enter your institute name? : \")"
   ]
  },
  {
   "cell_type": "code",
   "execution_count": 3,
   "id": "2570a237-9c25-4835-8305-01b0ee4a8272",
   "metadata": {},
   "outputs": [
    {
     "name": "stdin",
     "output_type": "stream",
     "text": [
      "Enter your name:  Revathy\n",
      "Enter your age:  40\n",
      "Enter your school name:  St.Marys\n",
      "Enter your drgree:  Bsc computer science\n"
     ]
    }
   ],
   "source": [
    "#Buy inputs\n",
    "name = input(\"Enter your name: \")\n",
    "\n",
    "age = input(\"Enter your age: \")\n",
    "\n",
    "school = input(\"Enter your school name: \")\n",
    "\n",
    "degree = input(\"Enter your drgree: \")\n"
   ]
  },
  {
   "cell_type": "code",
   "execution_count": 4,
   "id": "9bd7db71-b479-40da-85b1-91c05e0d7dd0",
   "metadata": {},
   "outputs": [
    {
     "name": "stdout",
     "output_type": "stream",
     "text": [
      "a =  43\n",
      "b =  34\n",
      "add =  77\n"
     ]
    }
   ],
   "source": [
    "#Addition\n",
    "\n",
    "a = 43\n",
    "b = 34\n",
    "add = a+b\n",
    "print(\"a = \",a)\n",
    "print(\"b = \",b)\n",
    "print(\"add = \",add)"
   ]
  },
  {
   "cell_type": "code",
   "execution_count": 5,
   "id": "3b7971a5-d958-4204-b22e-dfb922c1c115",
   "metadata": {},
   "outputs": [
    {
     "name": "stdout",
     "output_type": "stream",
     "text": [
      "a =  43\n",
      "b =  34\n",
      "Sub =  9\n"
     ]
    }
   ],
   "source": [
    "#Subtraction\n",
    "a=43\n",
    "b=34\n",
    "Sub = a-b\n",
    "print(\"a = \",a)\n",
    "print(\"b = \",b)\n",
    "print(\"Sub = \",Sub)"
   ]
  },
  {
   "cell_type": "code",
   "execution_count": 6,
   "id": "127d8df3-eb87-458b-b7a0-c55ea892e738",
   "metadata": {},
   "outputs": [
    {
     "name": "stdout",
     "output_type": "stream",
     "text": [
      "a =  63\n",
      "b =  97\n",
      "Mul =  6111\n"
     ]
    }
   ],
   "source": [
    "#Multiplication\n",
    "a=63\n",
    "b=97\n",
    "Mul=a*b\n",
    "print(\"a = \",a)\n",
    "print(\"b = \",b)\n",
    "print(\"Mul = \",Mul)"
   ]
  },
  {
   "cell_type": "code",
   "execution_count": 8,
   "id": "12ad38ea-980b-4ca5-ae31-b488654de1e3",
   "metadata": {},
   "outputs": [
    {
     "name": "stdout",
     "output_type": "stream",
     "text": [
      "a =  76\n",
      "b =  31\n",
      "Float Div =  2.4516129032258065\n"
     ]
    }
   ],
   "source": [
    "#Division\n",
    "a=76\n",
    "b=31\n",
    "Div = float(a/b)\n",
    "print(\"a = \",a)\n",
    "print(\"b = \",b)\n",
    "print(\"Float Div = \",Div)"
   ]
  },
  {
   "cell_type": "code",
   "execution_count": 10,
   "id": "d1445758-2699-4a01-90ef-ce1b67d664c6",
   "metadata": {},
   "outputs": [
    {
     "name": "stdout",
     "output_type": "stream",
     "text": [
      "a =  76\n",
      "b =  31\n",
      "Floor Div =  2\n"
     ]
    }
   ],
   "source": [
    "#Floor Division\n",
    "a=76\n",
    "b=31\n",
    "Div= a//b\n",
    "print(\"a = \",a)\n",
    "print(\"b = \",b)\n",
    "print(\"Floor Div = \",Div)"
   ]
  },
  {
   "cell_type": "code",
   "execution_count": 12,
   "id": "d5a6c34f-2b15-453d-8f65-c851cbc8d948",
   "metadata": {},
   "outputs": [
    {
     "name": "stdout",
     "output_type": "stream",
     "text": [
      "a =  76\n",
      "b =  31\n",
      "Modulo =  14\n"
     ]
    }
   ],
   "source": [
    "#Modulo\n",
    "a=76\n",
    "b=31\n",
    "Modulo = a%b\n",
    "print(\"a = \",a)\n",
    "print(\"b = \", b)\n",
    "print(\"Modulo = \",Modulo)"
   ]
  },
  {
   "cell_type": "code",
   "execution_count": 14,
   "id": "a5644291-66d6-49d2-97cc-1a86a6ed58e3",
   "metadata": {},
   "outputs": [
    {
     "name": "stdout",
     "output_type": "stream",
     "text": [
      "a =  4\n",
      "b =  4\n",
      "Power =  256\n"
     ]
    }
   ],
   "source": [
    "#Power\n",
    "a=4\n",
    "b=4\n",
    "Power = a**b\n",
    "print(\"a = \",a)\n",
    "print(\"b = \",b)\n",
    "print(\"Power = \", Power)"
   ]
  },
  {
   "cell_type": "code",
   "execution_count": null,
   "id": "13b6480e-dd1f-4d1d-ab1c-74b34bb23bc0",
   "metadata": {},
   "outputs": [],
   "source": []
  }
 ],
 "metadata": {
  "kernelspec": {
   "display_name": "Python 3 (ipykernel)",
   "language": "python",
   "name": "python3"
  },
  "language_info": {
   "codemirror_mode": {
    "name": "ipython",
    "version": 3
   },
   "file_extension": ".py",
   "mimetype": "text/x-python",
   "name": "python",
   "nbconvert_exporter": "python",
   "pygments_lexer": "ipython3",
   "version": "3.13.5"
  }
 },
 "nbformat": 4,
 "nbformat_minor": 5
}
