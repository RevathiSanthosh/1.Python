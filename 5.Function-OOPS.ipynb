{
 "cells": [
  {
   "cell_type": "code",
   "execution_count": 12,
   "id": "b5862875-2dd2-409e-b214-76ad4da0d582",
   "metadata": {},
   "outputs": [
    {
     "name": "stdin",
     "output_type": "stream",
     "text": [
      "Enter the age : 78\n"
     ]
    }
   ],
   "source": [
    "age = int(input(\"Enter the age :\"))\n",
    "#if\n"
   ]
  },
  {
   "cell_type": "code",
   "execution_count": 2,
   "id": "9b135883-7262-4abe-8448-b535d8843dea",
   "metadata": {},
   "outputs": [
    {
     "name": "stdout",
     "output_type": "stream",
     "text": [
      "You are adult\n"
     ]
    }
   ],
   "source": [
    "if(age >18):\n",
    "    print(\"You are adult\")"
   ]
  },
  {
   "cell_type": "code",
   "execution_count": 5,
   "id": "72de1ddd-43af-413a-9720-ac4f37168ecf",
   "metadata": {},
   "outputs": [
    {
     "name": "stdout",
     "output_type": "stream",
     "text": [
      "You are Children\n"
     ]
    }
   ],
   "source": [
    "if(age >18):\n",
    "    print(\"You are adult\")\n",
    "else:\n",
    "    print(\"You are Children\")"
   ]
  },
  {
   "cell_type": "code",
   "execution_count": 13,
   "id": "5f92ba2e-910d-4fcc-bdba-41bfa243f9d6",
   "metadata": {},
   "outputs": [
    {
     "name": "stdout",
     "output_type": "stream",
     "text": [
      "senior citizen\n"
     ]
    }
   ],
   "source": [
    "#if-elif\n",
    "if(age < 18):\n",
    "    print(\"children\")\n",
    "elif(age < 35):\n",
    "    print(\"adult\")\n",
    "elif(age < 59):\n",
    "    print(\"citizen\")\n",
    "else:\n",
    "    print(\"senior citizen\")"
   ]
  },
  {
   "cell_type": "code",
   "execution_count": 14,
   "id": "b91d3f98-5995-493e-91e0-19ca7fed5695",
   "metadata": {},
   "outputs": [
    {
     "name": "stdout",
     "output_type": "stream",
     "text": [
      "12\n",
      "45\n",
      "67\n",
      "32\n",
      "78\n",
      "19\n"
     ]
    }
   ],
   "source": [
    "#for-loop\n",
    "list = [12,45,67,32,78,19]\n",
    "for i in list:\n",
    "    print(i)"
   ]
  },
  {
   "cell_type": "code",
   "execution_count": 17,
   "id": "585d5412-f926-4cb2-a166-f7a4f96c942b",
   "metadata": {},
   "outputs": [
    {
     "name": "stdout",
     "output_type": "stream",
     "text": [
      "children\n",
      "citizen\n",
      "senior citizen\n",
      "adult\n",
      "senior citizen\n",
      "adult\n"
     ]
    }
   ],
   "source": [
    "#for-loop with if-else\n",
    "for i in list:\n",
    "    if(i < 18):\n",
    "        print(\"children\")\n",
    "    elif(i < 35):\n",
    "        print(\"adult\")\n",
    "    elif(i < 59):\n",
    "        print(\"citizen\")\n",
    "    else:\n",
    "        print(\"senior citizen\")"
   ]
  },
  {
   "cell_type": "code",
   "execution_count": 18,
   "id": "0dbe0ebe-2563-405d-b7ed-47f45aa1d1d6",
   "metadata": {},
   "outputs": [
    {
     "name": "stdout",
     "output_type": "stream",
     "text": [
      "1\n",
      "2\n",
      "3\n",
      "4\n",
      "5\n",
      "6\n",
      "7\n",
      "8\n",
      "9\n",
      "10\n"
     ]
    }
   ],
   "source": [
    "#Range()\n",
    "for i in range(1,11):\n",
    "    print(i)\n"
   ]
  },
  {
   "cell_type": "code",
   "execution_count": 24,
   "id": "70d262c4-5218-4202-b35b-85f1f5ea5576",
   "metadata": {},
   "outputs": [
    {
     "name": "stdout",
     "output_type": "stream",
     "text": [
      "0\n",
      "2\n",
      "4\n",
      "6\n",
      "8\n",
      "10\n"
     ]
    }
   ],
   "source": [
    "for i in range(0,11,2):\n",
    "    print(i)"
   ]
  },
  {
   "cell_type": "code",
   "execution_count": null,
   "id": "05f55a36-e765-4ce2-813a-b3f433e0f49e",
   "metadata": {},
   "outputs": [],
   "source": []
  }
 ],
 "metadata": {
  "kernelspec": {
   "display_name": "Python 3 (ipykernel)",
   "language": "python",
   "name": "python3"
  },
  "language_info": {
   "codemirror_mode": {
    "name": "ipython",
    "version": 3
   },
   "file_extension": ".py",
   "mimetype": "text/x-python",
   "name": "python",
   "nbconvert_exporter": "python",
   "pygments_lexer": "ipython3",
   "version": "3.13.5"
  }
 },
 "nbformat": 4,
 "nbformat_minor": 5
}
