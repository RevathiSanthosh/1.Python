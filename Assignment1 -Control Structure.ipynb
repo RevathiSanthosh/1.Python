{
 "cells": [
  {
   "cell_type": "code",
   "execution_count": 1,
   "id": "233a3b42-5373-4056-901c-9028abb13964",
   "metadata": {},
   "outputs": [
    {
     "name": "stdout",
     "output_type": "stream",
     "text": [
      "Welcome to Assignment-1\n"
     ]
    }
   ],
   "source": [
    "print(\"Welcome to Assignment-1\")"
   ]
  },
  {
   "cell_type": "code",
   "execution_count": 2,
   "id": "1f216d5c-119f-46c0-a593-be349c33166a",
   "metadata": {},
   "outputs": [
    {
     "name": "stdout",
     "output_type": "stream",
     "text": [
      "Num1 =  10\n",
      "Num2 =  30\n",
      "Add =  40\n"
     ]
    }
   ],
   "source": [
    "Num1 = 10\n",
    "Num2 = 30\n",
    "Add = Num1+Num2\n",
    "print(\"Num1 = \",Num1)\n",
    "print(\"Num2 = \",Num2)\n",
    "print(\"Add = \",Add)"
   ]
  },
  {
   "cell_type": "code",
   "execution_count": 3,
   "id": "6be49399-5822-489a-94c4-d0ae2950198a",
   "metadata": {},
   "outputs": [],
   "source": [
    "#Body Mass Index\n"
   ]
  },
  {
   "cell_type": "code",
   "execution_count": 6,
   "id": "3d70ed98-6997-4d6f-b89d-8fc14ea1d131",
   "metadata": {},
   "outputs": [
    {
     "name": "stdin",
     "output_type": "stream",
     "text": [
      "Enter the BMI Index : 50\n"
     ]
    },
    {
     "name": "stdout",
     "output_type": "stream",
     "text": [
      " Very Over Weight\n"
     ]
    }
   ],
   "source": [
    "BMI = int(input(\"Enter the BMI Index :\"))\n",
    "if(BMI<16):\n",
    "    print(\"Severe Thinness\")\n",
    "elif(BMI == 16 or BMI == 17):\n",
    "    print(\"Moderate Thinness\")\n",
    "elif(BMI > 17 and BMI <= 24):\n",
    "    print(\"Normal\")\n",
    "elif(BMI > 24 and BMI <= 39):\n",
    "    print(\"OverWeight\")\n",
    "else:\n",
    "    print(\" Very Over Weight\")"
   ]
  },
  {
   "cell_type": "code",
   "execution_count": null,
   "id": "22432190-7ffa-4378-9282-25688f73049a",
   "metadata": {},
   "outputs": [],
   "source": []
  }
 ],
 "metadata": {
  "kernelspec": {
   "display_name": "Python 3 (ipykernel)",
   "language": "python",
   "name": "python3"
  },
  "language_info": {
   "codemirror_mode": {
    "name": "ipython",
    "version": 3
   },
   "file_extension": ".py",
   "mimetype": "text/x-python",
   "name": "python",
   "nbconvert_exporter": "python",
   "pygments_lexer": "ipython3",
   "version": "3.13.5"
  }
 },
 "nbformat": 4,
 "nbformat_minor": 5
}
