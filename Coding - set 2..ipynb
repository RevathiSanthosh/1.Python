{
 "cells": [
  {
   "cell_type": "code",
   "execution_count": 1,
   "id": "aba1475d",
   "metadata": {},
   "outputs": [
    {
     "name": "stdout",
     "output_type": "stream",
     "text": [
      "Reversed string is : olleh\n"
     ]
    }
   ],
   "source": [
    "#1.Write a Python program to find the reverse of a string. Expected Output (for input \"hello\"):olleh\n",
    "string = 'hello'\n",
    "reversed_string = string[::-1]\n",
    "print(\"Reversed string is :\",reversed_string)"
   ]
  },
  {
   "cell_type": "code",
   "execution_count": 8,
   "id": "5b1ec143",
   "metadata": {},
   "outputs": [
    {
     "name": "stdout",
     "output_type": "stream",
     "text": [
      "0 1 1 2 3 5 8 13 21 34 "
     ]
    }
   ],
   "source": [
    "#2.Write a Python program to generate the Fibonacci sequence up to 10 terms.\n",
    "#Expected Output:\n",
    "#0 1 1 2 3 5 8 13 21 34\n",
    "n = 10\n",
    "a = 0\n",
    "b = 1\n",
    "count = 0\n",
    "\n",
    "while count < n:\n",
    "    print(a, end=\" \")\n",
    "    count += 1\n",
    "    a, b = b, a+b\n",
    "    \n"
   ]
  },
  {
   "cell_type": "code",
   "execution_count": 11,
   "id": "c656f04a",
   "metadata": {},
   "outputs": [
    {
     "name": "stdout",
     "output_type": "stream",
     "text": [
      "PALINDROME\n"
     ]
    }
   ],
   "source": [
    "#3.Write a Python function to check if a given string is a palindrome.\n",
    "#Expected Output (for input \"madam\"):madam is a palindrome\n",
    "\n",
    "string = input(\"Enter the string\")\n",
    "reversed_string = string[::-1]\n",
    "if string == reversed_string:\n",
    "    print(\"PALINDROME\")\n",
    "else:\n",
    "    print(\"NOT A PALINDROME\")"
   ]
  },
  {
   "cell_type": "code",
   "execution_count": 12,
   "id": "cd7b0a78",
   "metadata": {},
   "outputs": [
    {
     "name": "stdout",
     "output_type": "stream",
     "text": [
      "5\n"
     ]
    }
   ],
   "source": [
    "\n",
    "\n",
    "#4.Write a Python program to count the number of vowels in a given string. \n",
    "#Expected Output (for input \"education\"):\n",
    "\n",
    "#Number of vowels: 5\n",
    "    \n",
    "vowels = \"aeiouAEIOU\"\n",
    "string = input(\"enter the string\")\n",
    "count=0\n",
    "for char in string:\n",
    "    if char in vowels:\n",
    "        count+=1\n",
    "print(count)\n",
    "\n",
    "\n",
    "\n"
   ]
  },
  {
   "cell_type": "code",
   "execution_count": 2,
   "id": "bdbb9b19",
   "metadata": {},
   "outputs": [
    {
     "name": "stdout",
     "output_type": "stream",
     "text": [
      "[1, 2, 3, 4, 5]\n"
     ]
    }
   ],
   "source": [
    "#5.Write a Python program to remove duplicates from a list.\n",
    "#Expected Output (for input [1, 2, 2, 3, 4, 4, 5]):\n",
    "\n",
    " #[1, 2, 3, 4, 5]\n",
    "\n",
    "\n",
    "a = [1, 2, 1, 1, 3, 4, 3, 3, 5]\n",
    "res =list(set(a))\n",
    "print(res)\n"
   ]
  },
  {
   "cell_type": "code",
   "execution_count": null,
   "id": "5407771c",
   "metadata": {},
   "outputs": [],
   "source": []
  }
 ],
 "metadata": {
  "kernelspec": {
   "display_name": "Python 3.13.5 ('base')",
   "language": "python",
   "name": "python3"
  },
  "language_info": {
   "codemirror_mode": {
    "name": "ipython",
    "version": 3
   },
   "file_extension": ".py",
   "mimetype": "text/x-python",
   "name": "python",
   "nbconvert_exporter": "python",
   "pygments_lexer": "ipython3",
   "version": "3.13.5"
  },
  "vscode": {
   "interpreter": {
    "hash": "489bd2113aa5f90ae938143de21909d7e1cc2b6cf7b2e705359b4e02f06d57b8"
   }
  }
 },
 "nbformat": 4,
 "nbformat_minor": 5
}
